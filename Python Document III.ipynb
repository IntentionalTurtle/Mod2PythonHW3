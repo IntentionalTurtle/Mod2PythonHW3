{
 "cells": [
  {
   "cell_type": "markdown",
   "metadata": {},
   "source": [
    "# Data Collections 2 (Dictionaries, Sets) and Importing Modules"
   ]
  },
  {
   "cell_type": "markdown",
   "metadata": {},
   "source": [
    "## Tasks Today:\n",
    "\n",
    "1) Dictionary <br>\n",
    " &nbsp;&nbsp;&nbsp;&nbsp; a) Declaring (key, value) <br>\n",
    " &nbsp;&nbsp;&nbsp;&nbsp; b) Accessing Values <br>\n",
    " &nbsp;&nbsp;&nbsp;&nbsp; ------ Exercise #1 - Print the eye color of each person in a double nested dict <br>\n",
    " &nbsp;&nbsp;&nbsp;&nbsp; c) Adding New Pairs <br>\n",
    " &nbsp;&nbsp;&nbsp;&nbsp; d) Modifying Values <br>\n",
    " &nbsp;&nbsp;&nbsp;&nbsp; e) Removing Key, Value Pairs <br>\n",
    " &nbsp;&nbsp;&nbsp;&nbsp; f) Looping a Dictionary <br>\n",
    " &nbsp;&nbsp;&nbsp;&nbsp; g) Looping Only Keys <br>\n",
    " &nbsp;&nbsp;&nbsp;&nbsp; h) Looping Only Values <br>\n",
    " &nbsp;&nbsp;&nbsp;&nbsp; ------ Exercise #2 - Create a Function that Prints All Key Value Pairs within a print .format()  <br>\n",
    " &nbsp;&nbsp;&nbsp;&nbsp; i) sorted() <br>\n",
    " &nbsp;&nbsp;&nbsp;&nbsp; j) Lists with Dictionaries <br>\n",
    " &nbsp;&nbsp;&nbsp;&nbsp; k) Dictionaries with Lists <br>\n",
    " &nbsp;&nbsp;&nbsp;&nbsp; l) Dictionaries with Dictionaries <br>\n",
    " &nbsp;&nbsp;&nbsp;&nbsp; ------ Exercise #3 - Write a Function that asks someone's name and address, and then stores that into a dictionary, which prints all names and addresses after they're done putting information in...  <br>\n",
    "2) Dictionaries vs. Lists (over time)<br>\n",
    "3) Set <br>\n",
    " &nbsp;&nbsp;&nbsp;&nbsp; a) Declaring <br>\n",
    " &nbsp;&nbsp;&nbsp;&nbsp; b) .add() <br>\n",
    " &nbsp;&nbsp;&nbsp;&nbsp; c) .remove() <br>\n",
    " &nbsp;&nbsp;&nbsp;&nbsp; d) .union() <br>\n",
    " &nbsp;&nbsp;&nbsp;&nbsp; e) .intersection() <br>\n",
    " &nbsp;&nbsp;&nbsp;&nbsp; f) .difference() <br>\n",
    " &nbsp;&nbsp;&nbsp;&nbsp; g) Frozen Set <br>\n",
    "4) Modules <br>\n",
    " &nbsp;&nbsp;&nbsp;&nbsp; a) Importing Entire Modules <br>\n",
    " &nbsp;&nbsp;&nbsp;&nbsp; b) Importing Methods Only <br>\n",
    " &nbsp;&nbsp;&nbsp;&nbsp; c) Using the 'as' Keyword <br>\n",
    " &nbsp;&nbsp;&nbsp;&nbsp; d) Creating a Module <br>\n",
    "5) Exercises <br>\n",
    " &nbsp;&nbsp;&nbsp;&nbsp; a) Build a Shopping Cart <br>\n",
    " &nbsp;&nbsp;&nbsp;&nbsp; b) Create Your Own Module <br>"
   ]
  },
  {
   "cell_type": "markdown",
   "metadata": {},
   "source": [
    "## Dictionary <br>\n",
    "<p>A collection of data with 'key:value' pairs. Dictionaries are ordered as of Python 3.6</p>"
   ]
  },
  {
   "cell_type": "markdown",
   "metadata": {},
   "source": [
    "##### Declaring (key, value)"
   ]
  },
  {
   "cell_type": "code",
   "execution_count": 1,
   "metadata": {},
   "outputs": [
    {
     "name": "stdout",
     "output_type": "stream",
     "text": [
      "{'dave': '255 Main Street', 'sean': ' 522 Main Street', 0: 'This is a value for the key of 0'}\n"
     ]
    }
   ],
   "source": [
    "#keys should be unique\n",
    "#can use numbers or strings as keys\n",
    "#dictionaries are not re-order-able\n",
    "\n",
    "dict_1 = {}\n",
    "\n",
    "# OR (less common)\n",
    "\n",
    "dict_2 = dict()\n",
    "\n",
    "#OR (with data)\n",
    "\n",
    "dict_3 = {\n",
    "    'dave' : '255 Main Street',\n",
    "    'sean' : '522 Main Street',\n",
    "    0 : 'This is a value for the key of 0'\n",
    "}\n",
    "\n",
    "print(dict_3)"
   ]
  },
  {
   "cell_type": "markdown",
   "metadata": {},
   "source": [
    "##### Accessing Values"
   ]
  },
  {
   "cell_type": "code",
   "execution_count": 5,
   "metadata": {},
   "outputs": [
    {
     "name": "stdout",
     "output_type": "stream",
     "text": [
      "255 Main Street\n",
      "This is a value for the key of 0\n"
     ]
    }
   ],
   "source": [
    "#dict[key]\n",
    "#this ^ returns the value\n",
    "\n",
    "print(dict_3['dave'])\n",
    "print(dict_3[0])"
   ]
  },
  {
   "cell_type": "markdown",
   "metadata": {},
   "source": [
    "## In-Class Exercise #1 - Print a formatted statement from the dictionary below <br>\n",
    "<p>The output should be '2018 Chevrolet Silverado'</p>"
   ]
  },
  {
   "cell_type": "code",
   "execution_count": 9,
   "metadata": {},
   "outputs": [
    {
     "name": "stdout",
     "output_type": "stream",
     "text": [
      "2018 Chevrolet Silverado\n"
     ]
    }
   ],
   "source": [
    "# use the dict below\n",
    "truck = {\n",
    "    'year': 2018,\n",
    "    'make': 'Chevrolet',\n",
    "    'model': 'Silverado'\n",
    "}\n",
    "a = truck['year']\n",
    "b = truck['make']\n",
    "c = truck['model']\n",
    "\n",
    "\n",
    "print(f'{a} {b} {c}')\n",
    "\n"
   ]
  },
  {
   "cell_type": "markdown",
   "metadata": {},
   "source": [
    "##### Adding New Pairs"
   ]
  },
  {
   "cell_type": "code",
   "execution_count": 12,
   "metadata": {},
   "outputs": [
    {
     "data": {
      "text/plain": [
       "{'dave': '255 Main Street',\n",
       " 'sean': ' 522 Main Street',\n",
       " 0: 'This is a value for the key of 0',\n",
       " 'bob': 'From Ohio'}"
      ]
     },
     "execution_count": 12,
     "metadata": {},
     "output_type": "execute_result"
    }
   ],
   "source": [
    "#dict[key] = value\n",
    "\n",
    "dict_3['bob'] = 'From Ohio'\n",
    "\n",
    "dict_3"
   ]
  },
  {
   "cell_type": "markdown",
   "metadata": {},
   "source": [
    "##### Modifying Values"
   ]
  },
  {
   "cell_type": "code",
   "execution_count": 13,
   "metadata": {},
   "outputs": [
    {
     "data": {
      "text/plain": [
       "{'dave': '255 Main Street',\n",
       " 'sean': ' 522 Main Street',\n",
       " 0: 'This is a value for the key of 0',\n",
       " 'bob': 'Moved to Nashville'}"
      ]
     },
     "execution_count": 13,
     "metadata": {},
     "output_type": "execute_result"
    }
   ],
   "source": [
    "#same as above but overwriting the key\n",
    "dict_3['bob'] = 'Moved to Nashville'\n",
    "dict_3"
   ]
  },
  {
   "cell_type": "markdown",
   "metadata": {},
   "source": [
    "##### Removing Key, Value Pairs"
   ]
  },
  {
   "cell_type": "code",
   "execution_count": 15,
   "metadata": {},
   "outputs": [
    {
     "data": {
      "text/plain": [
       "{'dave': '255 Main Street',\n",
       " 'sean': ' 522 Main Street',\n",
       " 0: 'This is a value for the key of 0'}"
      ]
     },
     "execution_count": 15,
     "metadata": {},
     "output_type": "execute_result"
    }
   ],
   "source": [
    "#del dict[key]\n",
    "\n",
    "del dict_3['bob']\n",
    "dict_3"
   ]
  },
  {
   "cell_type": "markdown",
   "metadata": {},
   "source": [
    "##### Looping a Dictionary"
   ]
  },
  {
   "cell_type": "code",
   "execution_count": 16,
   "metadata": {},
   "outputs": [
    {
     "name": "stdout",
     "output_type": "stream",
     "text": [
      "dave 255 Main Street\n",
      "sean  522 Main Street\n",
      "0 This is a value for the key of 0\n"
     ]
    }
   ],
   "source": [
    "# .items()\n",
    "# a, b, c = 1, 2, 3\n",
    "# print(a)\n",
    "# print(b)\n",
    "# print(c)\n",
    "\n",
    "for key, value in dict_3.items():\n",
    "    print(key,value)\n"
   ]
  },
  {
   "cell_type": "markdown",
   "metadata": {},
   "source": [
    "##### Looping Only Keys"
   ]
  },
  {
   "cell_type": "code",
   "execution_count": 17,
   "metadata": {},
   "outputs": [
    {
     "name": "stdout",
     "output_type": "stream",
     "text": [
      "dave\n",
      "sean\n",
      "0\n"
     ]
    }
   ],
   "source": [
    "# .keys()\n",
    "for key in dict_3.keys():\n",
    "    print(key)\n"
   ]
  },
  {
   "cell_type": "markdown",
   "metadata": {},
   "source": [
    "##### Looping Only Values"
   ]
  },
  {
   "cell_type": "code",
   "execution_count": 18,
   "metadata": {},
   "outputs": [
    {
     "name": "stdout",
     "output_type": "stream",
     "text": [
      "255 Main Street\n",
      " 522 Main Street\n",
      "This is a value for the key of 0\n"
     ]
    }
   ],
   "source": [
    "# .values()\n",
    "for value in dict_3.values():\n",
    "    print(value)\n"
   ]
  },
  {
   "cell_type": "markdown",
   "metadata": {},
   "source": [
    "## In-Class Exercise #2 - Create a Function that Prints All Key Value Pairs within a print .format() <br>\n",
    "<p><b>Output should be:</b><br>\n",
    "Max has blue eyes<br>\n",
    "Lilly has brown eyes<br>\n",
    "Barney has blue eyes<br>\n",
    "etc.\n",
    "</p>"
   ]
  },
  {
   "cell_type": "code",
   "execution_count": 19,
   "metadata": {},
   "outputs": [
    {
     "name": "stdout",
     "output_type": "stream",
     "text": [
      "Max has blue eyes.\n",
      "Lilly has brown eyes.\n",
      "Barney has blue eyes.\n",
      "Larney has brown eyes.\n",
      "Ted has purple eyes.\n"
     ]
    }
   ],
   "source": [
    "# use the dict below\n",
    "\n",
    "people = {\n",
    "    'Max': 'blue',\n",
    "    'Lilly': 'brown',\n",
    "    'Barney': 'blue',\n",
    "    'Larney': 'brown',\n",
    "    'Ted': 'purple'\n",
    "}\n",
    "\n",
    "for k,v in people.items():\n",
    "    print(f'{k} has {v} eyes.')"
   ]
  },
  {
   "cell_type": "markdown",
   "metadata": {},
   "source": [
    "##### sorted()"
   ]
  },
  {
   "cell_type": "code",
   "execution_count": 24,
   "metadata": {},
   "outputs": [
    {
     "name": "stdout",
     "output_type": "stream",
     "text": [
      "[('Barney', 'blue'), ('Larney', 'brown'), ('Lilly', 'brown'), ('Max', 'blue'), ('Ted', 'purple')]\n",
      "['Barney', 'Larney', 'Lilly', 'Max', 'Ted']\n",
      "['blue', 'blue', 'brown', 'brown', 'purple']\n",
      "['blue', 'blue', 'brown', 'brown', 'purple']\n"
     ]
    }
   ],
   "source": [
    "# sorts variables in order\n",
    "# sorted(dict.values()) or dict.keys() or dict.items()\n",
    "\n",
    "print(sorted(people.items()))\n",
    "print(sorted(people.keys()))\n",
    "print(sorted(people.values()))\n",
    "\n",
    "new_variable = sorted(people.values())\n",
    "print(new_variable)"
   ]
  },
  {
   "cell_type": "markdown",
   "metadata": {},
   "source": [
    "List with Dictionaries"
   ]
  },
  {
   "cell_type": "code",
   "execution_count": 27,
   "metadata": {},
   "outputs": [
    {
     "name": "stdout",
     "output_type": "stream",
     "text": [
      "Barbara\n",
      "random+guy\n",
      "random_girl\n"
     ]
    }
   ],
   "source": [
    "names = ['Dave', 'Randy', 'Greg', {'random_guy':'Robert','random_girl':'Barbara'}]\n",
    "\n",
    "print(names[3]['random_girl'])\n",
    "\n",
    "for keys in names[3].keys():\n",
    "    print(keys)"
   ]
  },
  {
   "cell_type": "markdown",
   "metadata": {},
   "source": [
    "##### Dictionaries with Lists"
   ]
  },
  {
   "cell_type": "code",
   "execution_count": 34,
   "metadata": {},
   "outputs": [
    {
     "name": "stdout",
     "output_type": "stream",
     "text": [
      "smith\n",
      "iPod\n",
      "water bottle\n",
      "s\n",
      "m\n",
      "i\n",
      "t\n",
      "h\n",
      "i\n",
      "P\n",
      "o\n",
      "d\n",
      "w\n",
      "a\n",
      "t\n",
      "e\n",
      "r\n",
      " \n",
      "b\n",
      "o\n",
      "t\n",
      "t\n",
      "l\n",
      "e\n"
     ]
    }
   ],
   "source": [
    "# be careful when using numbers as keys in dictionaries, don't confuse them with indexes\n",
    "\n",
    "# random_dict = {\n",
    "#     0: 'Zero',\n",
    "#     3: 'One',\n",
    "#     17: 'Two',\n",
    "#     2: 'Three',\n",
    "# }\n",
    "\n",
    "#below does not work because dictionaries are not indexed. There is no key of '1'\n",
    "# # random_dict[1]\n",
    "\n",
    "# #output is 'Three' rather than 'Two' because it is the value for key 2...not index 2. dicts are not indexed\n",
    "# random_dict[2]\n",
    "\n",
    "random_data = {\n",
    "    'list1': [54, 7, 11],\n",
    "    '2': ['smith', 'iPod', 'water bottle']\n",
    "}\n",
    "\n",
    "for key in random_data['2']:\n",
    "    print(key)\n",
    "\n",
    "for key in random_data['2']:\n",
    "    for i in key:\n",
    "        print (i)"
   ]
  },
  {
   "cell_type": "markdown",
   "metadata": {},
   "source": [
    "##### Dictionaries with Dictionaries"
   ]
  },
  {
   "cell_type": "code",
   "execution_count": 46,
   "metadata": {},
   "outputs": [
    {
     "name": "stdout",
     "output_type": "stream",
     "text": [
      "6.99\n",
      "\n",
      "\n",
      "3.99\n",
      "\n",
      "\n",
      "{'CHO': 2.99, 'VA': 3.99, 'Oreo': 5.99, 'PB': 6.99}\n",
      "\n",
      "\n",
      "('CHO', 2.99)\n",
      "('VA', 3.99)\n",
      "('Oreo', 5.99)\n",
      "('PB', 6.99)\n",
      "\n",
      "\n",
      "CHO\n",
      "VA\n",
      "Oreo\n",
      "PB\n",
      "\n",
      "\n",
      "2.99\n",
      "3.99\n",
      "5.99\n",
      "6.99\n"
     ]
    }
   ],
   "source": [
    "# to get values, must traverse through keys\n",
    "# syntax - dictionary[key1][key2][key3]...\n",
    "\n",
    "food_dict = {\n",
    "    'ice_cream': {\n",
    "        \"CHO\": 2.99,\n",
    "        \"VA\": 3.99,\n",
    "        \"Oreo\": 5.99,\n",
    "        \"PB\": 6.99,\n",
    "    }\n",
    "}\n",
    "\n",
    "print(food_dict['ice_cream'][\"PB\"])\n",
    "print('\\n')\n",
    "print(food_dict['ice_cream']['VA'])\n",
    "print('\\n')\n",
    "print(food_dict['ice_cream'])\n",
    "print('\\n')\n",
    "for i in food_dict['ice_cream'].items():\n",
    "    print(i)\n",
    "print('\\n')\n",
    "for i in food_dict['ice_cream'].keys():\n",
    "    print(i)\n",
    "print('\\n')\n",
    "for i in food_dict['ice_cream'].values():\n",
    "    print(i)"
   ]
  },
  {
   "cell_type": "markdown",
   "metadata": {},
   "source": [
    "## Dictionaries vs. Lists (over time) Example of RUNTIME\n",
    "### When inputting values in a Dictionary vs List"
   ]
  },
  {
   "cell_type": "code",
   "execution_count": 47,
   "metadata": {},
   "outputs": [],
   "source": [
    "import time\n",
    "\n",
    "\n",
    "# generate fake dictionary\n",
    "d = {}\n",
    "\n",
    "for i in range(10000000):\n",
    "    d[i] = 'value'\n",
    "    \n",
    "\n",
    "# generate fake list\n",
    "big_list = [x for x in range(10000000)]"
   ]
  },
  {
   "cell_type": "code",
   "execution_count": 48,
   "metadata": {},
   "outputs": [
    {
     "name": "stdout",
     "output_type": "stream",
     "text": [
      "value\n",
      "Elapsed time for dictionary: 0.0\n",
      "9999999\n",
      "Elapsed time for list: 0.4606821537017822\n"
     ]
    }
   ],
   "source": [
    "# tracking time for dictionary\n",
    "start_time = time.time()\n",
    "\n",
    "print(d[9999999])\n",
    "\n",
    "end_time = time.time() - start_time\n",
    "\n",
    "print('Elapsed time for dictionary: {}'.format(end_time))\n",
    "\n",
    "\n",
    "# tracking time for list\n",
    "start_time = time.time()\n",
    "\n",
    "for i in range(len(big_list)):\n",
    "    if i == 9999999:\n",
    "        print(i)\n",
    "\n",
    "end_time = time.time() - start_time\n",
    "\n",
    "print('Elapsed time for list: {}'.format(end_time))"
   ]
  },
  {
   "cell_type": "markdown",
   "metadata": {},
   "source": [
    "## Exercise #3 - Write a Function that asks someone's name and address, and then stores that into a dictionary, and continues to do so until they choose to 'quit'. Once they quit, the program should print all names and addresses. <br>\n",
    "<p>\n",
    "<b>Proper steps:</b><br>\n",
    "step 1: write a function that takes in information and stores it in a dictionary<br>\n",
    "step 2: define an empty dictionary to work with<br>\n",
    "step 3: create our loop, which asks the user for information until they quit<br>\n",
    "step 4: ask for the information, and store it into variables<br>\n",
    "step 5: check if the user types quit<br>\n",
    "step 5a: print out all information<br>\n",
    "step 5b: break out of the loop<br>\n",
    "step 6: if they didn't quit, add the information to the dictionary<br>\n",
    "step 7: invoke the function by calling it\n",
    "</p>"
   ]
  },
  {
   "cell_type": "code",
   "execution_count": 51,
   "metadata": {},
   "outputs": [
    {
     "name": "stdout",
     "output_type": "stream",
     "text": [
      "What is your name? Matt\n",
      "What is your address? OOO\n",
      "Are you ready to quit adding names and addresses? (Y/N) n\n",
      "What is your name? J \n",
      "What is your address? afge\n",
      "Are you ready to quit adding names and addresses? (Y/N) n\n",
      "What is your name? opoiq\n",
      "What is your address? ya\n",
      "Are you ready to quit adding names and addresses? (Y/N) y\n",
      "{'Matt': 'OOO', 'J ': 'afge', 'opoiq': 'ya'}\n"
     ]
    }
   ],
   "source": [
    "from IPython.display import clear_output\n",
    "\n",
    "def addressBook():\n",
    "    book = {}\n",
    "    quit = 'no'\n",
    "    while quit == 'no':\n",
    "        name = input('What is your name? ')\n",
    "        address = input('What is your address? ')\n",
    "        book[name] = address\n",
    "        askquit = input('Are you ready to quit adding names and addresses? (Y/N) ')\n",
    "        if askquit.upper() == 'Y':\n",
    "            return book\n",
    "            quit = 'yes'\n",
    "\n",
    "clear_output()\n",
    "print(addressBook())"
   ]
  },
  {
   "cell_type": "markdown",
   "metadata": {},
   "source": [
    "## Set <br>\n",
    "<p>A Set is an unordered collection data type that is iterable (loop), mutable, and has no duplicate elements.<br>Major advantage is that it is highly optimized in checking if something is in the set, as opposed to checking if something is in a list.</p>"
   ]
  },
  {
   "cell_type": "markdown",
   "metadata": {},
   "source": [
    "##### Declaring"
   ]
  },
  {
   "cell_type": "code",
   "execution_count": 52,
   "metadata": {},
   "outputs": [
    {
     "name": "stdout",
     "output_type": "stream",
     "text": [
      "{1, 4, 6}\n"
     ]
    }
   ],
   "source": [
    "# set() or {}\n",
    "# no order {3, 2, 1} outputs as {1, 2, 3}\n",
    "\n",
    "nums = {4,1,6,4}\n",
    "\n",
    "print(nums)\n"
   ]
  },
  {
   "cell_type": "markdown",
   "metadata": {},
   "source": [
    "##### .add()"
   ]
  },
  {
   "cell_type": "code",
   "execution_count": 53,
   "metadata": {},
   "outputs": [
    {
     "name": "stdout",
     "output_type": "stream",
     "text": [
      "{56, 1, 4, 6}\n"
     ]
    }
   ],
   "source": [
    "# set.add()\n",
    "nums.add(56)\n",
    "print(nums)"
   ]
  },
  {
   "cell_type": "markdown",
   "metadata": {},
   "source": [
    "##### .remove()"
   ]
  },
  {
   "cell_type": "code",
   "execution_count": 54,
   "metadata": {},
   "outputs": [
    {
     "name": "stdout",
     "output_type": "stream",
     "text": [
      "{1, 4, 6}\n"
     ]
    }
   ],
   "source": [
    "# removes by value\n",
    "# set.remove()\n",
    "# nums.remove(56)\n",
    "\n",
    "nums.remove(56)\n",
    "print(nums)"
   ]
  },
  {
   "cell_type": "markdown",
   "metadata": {},
   "source": [
    "##### .union() "
   ]
  },
  {
   "cell_type": "code",
   "execution_count": 71,
   "metadata": {},
   "outputs": [
    {
     "name": "stdout",
     "output_type": "stream",
     "text": [
      "{1, 2, 3, 4, 5, 6}\n",
      "1\n",
      "{1, 2, 3, 4, 5, 6}\n"
     ]
    }
   ],
   "source": [
    "# Returns a union of two sets, can also use '|' or set.union(set)\n",
    "# joins all numbers, gets rid of duplicates\n",
    "\n",
    "s1 = {4,2,3,1}\n",
    "s2 = {3,4,5,6}\n",
    "\n",
    "s3=s1.union(s2)\n",
    "print(s3)\n",
    "\n",
    "print(s3.pop())\n",
    "\n",
    "#OR\n",
    "\n",
    "s4 = s1|s2\n",
    "print(s4)"
   ]
  },
  {
   "cell_type": "markdown",
   "metadata": {},
   "source": [
    "##### .intersection()"
   ]
  },
  {
   "cell_type": "code",
   "execution_count": 64,
   "metadata": {},
   "outputs": [
    {
     "name": "stdout",
     "output_type": "stream",
     "text": [
      "{3, 4}\n",
      "{3, 4}\n"
     ]
    }
   ],
   "source": [
    "# Returns an intersection of two sets, can also use '&'\n",
    "# only takes similar elements from both sets\n",
    "\n",
    "s5 = s2 & s1\n",
    "print(s5)\n",
    "\n",
    "s6 = s1.intersection(s2)\n",
    "print(s6)"
   ]
  },
  {
   "cell_type": "markdown",
   "metadata": {},
   "source": [
    "##### .difference()"
   ]
  },
  {
   "cell_type": "code",
   "execution_count": 78,
   "metadata": {},
   "outputs": [
    {
     "name": "stdout",
     "output_type": "stream",
     "text": [
      "{5, 6}\n",
      "{1, 2}\n"
     ]
    }
   ],
   "source": [
    "# Returns a set containing all the elements of invoking set that are not in the second set, can also use '-'\n",
    "# only takes values from the first set that are not in the second set\n",
    "# order matters\n",
    "\n",
    "s7 = s2 - s1 \n",
    "print(s7)\n",
    "\n",
    "s8 = s1.difference(s2)\n",
    "print(s8)"
   ]
  },
  {
   "cell_type": "markdown",
   "metadata": {},
   "source": [
    "##### .clear()"
   ]
  },
  {
   "cell_type": "code",
   "execution_count": 79,
   "metadata": {},
   "outputs": [
    {
     "name": "stdout",
     "output_type": "stream",
     "text": [
      "set()\n"
     ]
    }
   ],
   "source": [
    "# Empties the whole set\n",
    "# set.clear()\n",
    "s8.clear()\n",
    "print(s8)"
   ]
  },
  {
   "cell_type": "markdown",
   "metadata": {},
   "source": [
    "##### Frozenset <br>\n",
    "<p>Frozen sets are immutable objects that only support methods and operators that produce a result without affecting the frozen set or sets to which they are applied.</p><br><b>Unique & Immutable</b>"
   ]
  },
  {
   "cell_type": "code",
   "execution_count": 82,
   "metadata": {},
   "outputs": [
    {
     "name": "stdout",
     "output_type": "stream",
     "text": [
      "frozenset({2, 3, 4, 5, 6})\n"
     ]
    },
    {
     "ename": "AttributeError",
     "evalue": "'frozenset' object has no attribute 'add'",
     "output_type": "error",
     "traceback": [
      "\u001b[1;31m---------------------------------------------------------------------------\u001b[0m",
      "\u001b[1;31mAttributeError\u001b[0m                            Traceback (most recent call last)",
      "\u001b[1;32m~\\AppData\\Local\\Temp\\ipykernel_20596\\3607043967.py\u001b[0m in \u001b[0;36m<module>\u001b[1;34m\u001b[0m\n\u001b[0;32m      3\u001b[0m \u001b[0mprint\u001b[0m\u001b[1;33m(\u001b[0m\u001b[0mmy_frozen_set\u001b[0m\u001b[1;33m)\u001b[0m\u001b[1;33m\u001b[0m\u001b[1;33m\u001b[0m\u001b[0m\n\u001b[0;32m      4\u001b[0m \u001b[1;33m\u001b[0m\u001b[0m\n\u001b[1;32m----> 5\u001b[1;33m \u001b[0mmy_frozen_set\u001b[0m\u001b[1;33m.\u001b[0m\u001b[0madd\u001b[0m\u001b[1;33m(\u001b[0m\u001b[1;36m56\u001b[0m\u001b[1;33m)\u001b[0m\u001b[1;33m\u001b[0m\u001b[1;33m\u001b[0m\u001b[0m\n\u001b[0m",
      "\u001b[1;31mAttributeError\u001b[0m: 'frozenset' object has no attribute 'add'"
     ]
    }
   ],
   "source": [
    "# frozenset([])\n",
    "my_frozen_set = frozenset(s3)\n",
    "print(my_frozen_set)\n",
    "\n",
    "my_frozen_set.add(56)"
   ]
  },
  {
   "cell_type": "markdown",
   "metadata": {},
   "source": [
    "## Modules"
   ]
  },
  {
   "cell_type": "markdown",
   "metadata": {},
   "source": [
    "##### Importing Entire Modules"
   ]
  },
  {
   "cell_type": "code",
   "execution_count": 85,
   "metadata": {},
   "outputs": [
    {
     "name": "stdout",
     "output_type": "stream",
     "text": [
      "3.141592653589793\n",
      "3\n"
     ]
    }
   ],
   "source": [
    "# import or from 'xxx' import *\n",
    "# import math\n",
    "\n",
    "from math import pi\n",
    "from math import floor\n",
    "print(pi)\n",
    "print(floor(pi))"
   ]
  },
  {
   "cell_type": "markdown",
   "metadata": {},
   "source": [
    "##### Importing Methods Only"
   ]
  },
  {
   "cell_type": "code",
   "execution_count": null,
   "metadata": {},
   "outputs": [],
   "source": [
    "# from 'xxx' import 'xxx'\n",
    "# from math import floor\n",
    "\n",
    "#see above\n",
    "\n"
   ]
  },
  {
   "cell_type": "markdown",
   "metadata": {},
   "source": [
    "##### Using the 'as' Keyword"
   ]
  },
  {
   "cell_type": "code",
   "execution_count": 86,
   "metadata": {},
   "outputs": [
    {
     "name": "stdout",
     "output_type": "stream",
     "text": [
      "3\n"
     ]
    }
   ],
   "source": [
    "# from 'xxx' import 'xxx' as 'xxx' or import 'xxx' as 'xxx'\n",
    "# from math import floor as f\n",
    "\n",
    "from math import floor as f, pi as p\n",
    "\n",
    "print(f(p))\n"
   ]
  },
  {
   "cell_type": "markdown",
   "metadata": {},
   "source": [
    "##### Creating a Module"
   ]
  },
  {
   "cell_type": "code",
   "execution_count": 116,
   "metadata": {},
   "outputs": [
    {
     "data": {
      "text/plain": [
       "\"Hello Mr/Ms {name}...we've been waiting for you!\""
      ]
     },
     "execution_count": 116,
     "metadata": {},
     "output_type": "execute_result"
    }
   ],
   "source": [
    "import module\n",
    "\n",
    "module.printName(\"Brandon\")"
   ]
  },
  {
   "cell_type": "markdown",
   "metadata": {},
   "source": [
    "# Exercises"
   ]
  },
  {
   "cell_type": "markdown",
   "metadata": {},
   "source": [
    "### 1) Build a Shopping Cart <br>\n",
    "<p><b>You can use either lists or dictionaries. The program should have the following capabilities:</b><br><br>\n",
    "1) Takes in input <br>\n",
    "2) Stores user input into a dictionary or list <br>\n",
    "3) The User can add or delete items <br>\n",
    "4) The User can see current shopping list <br>\n",
    "5) The program Loops until user 'quits' <br>\n",
    "6) Upon quiting the program, print out all items in the user's list <br>\n",
    "</p>"
   ]
  },
  {
   "cell_type": "code",
   "execution_count": 101,
   "metadata": {},
   "outputs": [
    {
     "name": "stdout",
     "output_type": "stream",
     "text": [
      "Your current shopping cart contains:\n",
      "for a total price of $0 \n",
      "\n",
      "Would you like to Add or Delete items from your shopping list or are you ready to Checkout? You may also ask what the price of a specific item is by typing the name of the item. \n",
      "add\n",
      "\n",
      "What would you like to purchase today? \n",
      "beans\n",
      "The beans was $14 and has been added to your cart. Your current total is $14.\n",
      "\n",
      "Your current shopping cart contains:\n",
      "beans\n",
      "for a total price of $14 \n",
      "\n",
      "Would you like to Add or Delete items from your shopping list or are you ready to Checkout? You may also ask what the price of a specific item is by typing the name of the item. \n",
      "add\n",
      "\n",
      "What would you like to purchase today? \n",
      "beans\n",
      "The Beans was $14 and has been added to your cart. Your current total is $28.\n",
      "\n",
      "Your current shopping cart contains:\n",
      "beans\n",
      "for a total price of $28 \n",
      "\n",
      "Would you like to Add or Delete items from your shopping list or are you ready to Checkout? You may also ask what the price of a specific item is by typing the name of the item. \n",
      "add\n",
      "\n",
      "What would you like to purchase today? \n",
      "kale\n",
      "The kale was $11 and has been added to your cart. Your current total is $39.\n",
      "\n",
      "Your current shopping cart contains:\n",
      "beans\n",
      "kale\n",
      "for a total price of $39 \n",
      "\n",
      "Would you like to Add or Delete items from your shopping list or are you ready to Checkout? You may also ask what the price of a specific item is by typing the name of the item. \n",
      "delete\n",
      "\n",
      "What would you like to remove from your cart? \n",
      "kale\n",
      "Are you sure? Y/N \n",
      "n\n",
      "Your current shopping cart contains:\n",
      "beans\n",
      "kale\n",
      "for a total price of $39 \n",
      "\n",
      "Would you like to Add or Delete items from your shopping list or are you ready to Checkout? You may also ask what the price of a specific item is by typing the name of the item. \n",
      "delete\n",
      "\n",
      "What would you like to remove from your cart? \n",
      "kale\n",
      "Are you sure? Y/N \n",
      "y\n",
      "The Kale was removed from your cart. Your current total is $28. \n",
      "\n",
      "Your current shopping cart contains:\n",
      "beans\n",
      "for a total price of $28 \n",
      "\n",
      "Would you like to Add or Delete items from your shopping list or are you ready to Checkout? You may also ask what the price of a specific item is by typing the name of the item. \n",
      "add\n",
      "\n",
      "What would you like to purchase today? \n",
      "corn\n",
      "The corn was $11 and has been added to your cart. Your current total is $39.\n",
      "\n",
      "Your current shopping cart contains:\n",
      "beans\n",
      "corn\n",
      "for a total price of $39 \n",
      "\n",
      "Would you like to Add or Delete items from your shopping list or are you ready to Checkout? You may also ask what the price of a specific item is by typing the name of the item. \n",
      "add\n",
      "\n",
      "What would you like to purchase today? \n",
      "juice\n",
      "The juice was $8 and has been added to your cart. Your current total is $47.\n",
      "\n",
      "Your current shopping cart contains:\n",
      "beans\n",
      "corn\n",
      "juice\n",
      "for a total price of $47 \n",
      "\n",
      "Would you like to Add or Delete items from your shopping list or are you ready to Checkout? You may also ask what the price of a specific item is by typing the name of the item. \n",
      "juice\n",
      "\n",
      "The juice is $8.\n",
      "Your current shopping cart contains:\n",
      "beans\n",
      "corn\n",
      "juice\n",
      "for a total price of $47 \n",
      "\n",
      "Would you like to Add or Delete items from your shopping list or are you ready to Checkout? You may also ask what the price of a specific item is by typing the name of the item. \n",
      "kale\n",
      "You have not yet purchased Kale.\n",
      "Your current shopping cart contains:\n",
      "beans\n",
      "corn\n",
      "juice\n",
      "for a total price of $47 \n",
      "\n",
      "Would you like to Add or Delete items from your shopping list or are you ready to Checkout? You may also ask what the price of a specific item is by typing the name of the item. \n",
      "corn\n",
      "\n",
      "The corn is $11.\n",
      "Your current shopping cart contains:\n",
      "beans\n",
      "corn\n",
      "juice\n",
      "for a total price of $47 \n",
      "\n",
      "Would you like to Add or Delete items from your shopping list or are you ready to Checkout? You may also ask what the price of a specific item is by typing the name of the item. \n",
      "checkout\n",
      "\n",
      "Thank you for shopping with us. You have purchased:\n",
      "('beans', 28)\n",
      "('corn', 11)\n",
      "('juice', 8)\n",
      "and your total is $47. Please enjoy your day!\n"
     ]
    }
   ],
   "source": [
    "from IPython.display import clear_output\n",
    "\n",
    "# Ask the user four bits of input: Do you want to : Show/Add/Delete or Quit?\n",
    "\n",
    "def shoppingCart():\n",
    "    import random\n",
    "    shop_list = {}\n",
    "    total = 0\n",
    "    while True:\n",
    "        print('Your current shopping cart contains:') \n",
    "        for i in shop_list.keys():\n",
    "            print(i)\n",
    "        print(f'for a total price of ${total} \\n')\n",
    "        ask = input(\"Would you like to Add or Delete items from your shopping list or are you ready to Checkout? You may also ask what the price of a specific item is by typing the name of the item. \\n\")\n",
    "        #Add items\n",
    "        if ask.lower() == 'add':\n",
    "            add = input(\"\\nWhat would you like to purchase today? \\n\")\n",
    "            if add.lower() not in shop_list.keys():\n",
    "                price = random.randrange(1,15)\n",
    "                shop_list[add.lower()] = price\n",
    "                total += price\n",
    "                print(f'The {add} was ${price} and has been added to your cart. Your current total is ${total}.\\n')\n",
    "            # This else: is here so that a previously called item with a random price is priced the same as before rather than with a new random number\n",
    "            # unfortunately, without an actual stored price for every possible item, this just doubles the price...thought about creating a whole second dictionary to \n",
    "            #essentially strip the key:value and store it after the price was generated...I could then call that random price from the second dictionary but that was a lot more\n",
    "            #work and I already spent a ton of above/beyond time to build in the randomness and the running total and the method of price checking so I bailed on the idea.\n",
    "            #it is feasible but can't take the rl time! Sorry!\n",
    "            else:\n",
    "                price = shop_list[add.lower()]\n",
    "                shop_list[add.lower()] = price * 2\n",
    "                total += price\n",
    "                print(f'The {add.title()} was ${price} and has been added to your cart. Your current total is ${total}.\\n')\n",
    "                continue\n",
    "        #Remove items\n",
    "        elif ask.lower() == 'delete':\n",
    "            delete = input(\"\\nWhat would you like to remove from your cart? \\n\")\n",
    "            if delete.lower() not in shop_list.keys():\n",
    "                print(f'I am sorry, you have not bought {delete} yet. \\n')\n",
    "            else: \n",
    "                sure = input(\"Are you sure? Y/N \\n\")\n",
    "                if sure.lower() == 'y':\n",
    "                    total -= shop_list[delete]\n",
    "                    del shop_list[delete]\n",
    "                    print(f'The {delete.title()} was removed from your cart. Your current total is ${total}. \\n') \n",
    "                else:\n",
    "                    continue\n",
    "        #Checkout\n",
    "        elif ask.lower() == 'checkout':\n",
    "            print(f'\\nThank you for shopping with us. You have purchased:')\n",
    "            for i in shop_list.items():\n",
    "                print(i)\n",
    "            print(f'and your total is ${total}. Please enjoy your day!')\n",
    "            break\n",
    "        \n",
    "        #Price Check\n",
    "        else:\n",
    "            if ask.lower() in shop_list.keys():\n",
    "                print(f'\\nThe {ask} is ${shop_list[ask]}.')\n",
    "            else:\n",
    "                print(f'You have not yet purchased {ask.title()}.')\n",
    "\n",
    "shoppingCart()\n",
    "\n",
    "\n"
   ]
  },
  {
   "cell_type": "markdown",
   "metadata": {},
   "source": [
    "### 2) Create a Module in VS Code and Import It into jupyter notebook <br>\n",
    "<p><b>Module should have the following capabilities:</b><br><br>\n",
    "1) Has a function to calculate the square footage of a house <br>\n",
    "    <b>Reminder of Formula: Length X Width == Area<br>\n",
    "        <hr>\n",
    "2) Has a function to calculate the circumference of a circle <br><br>\n",
    "<b>Program in Jupyter Notebook should take in user input and use imported functions to calculate a circle's circumference or a houses square footage</b>\n",
    "</p>"
   ]
  },
  {
   "cell_type": "code",
   "execution_count": 3,
   "metadata": {},
   "outputs": [
    {
     "name": "stdout",
     "output_type": "stream",
     "text": [
      "What is the length of the room in your house in feet?3\n",
      "What is the width of your house in feet?4\n",
      "Your room is 12.0 square feet in area!\n",
      "What is the radius of your circle in cm? 5\n",
      "Your circle has a circumference of 31.415000000000003 cm^3\n"
     ]
    }
   ],
   "source": [
    "import mymathmod\n",
    "\n",
    "mymathmod.houseFoot()\n",
    "mymathmod.circumference()"
   ]
  },
  {
   "cell_type": "code",
   "execution_count": null,
   "metadata": {},
   "outputs": [],
   "source": []
  }
 ],
 "metadata": {
  "kernelspec": {
   "display_name": "Python 3 (ipykernel)",
   "language": "python",
   "name": "python3"
  },
  "language_info": {
   "codemirror_mode": {
    "name": "ipython",
    "version": 3
   },
   "file_extension": ".py",
   "mimetype": "text/x-python",
   "name": "python",
   "nbconvert_exporter": "python",
   "pygments_lexer": "ipython3",
   "version": "3.9.13"
  }
 },
 "nbformat": 4,
 "nbformat_minor": 2
}
